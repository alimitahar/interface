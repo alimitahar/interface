{
 "cells": [
  {
   "cell_type": "code",
   "execution_count": 1,
   "metadata": {},
   "outputs": [],
   "source": [
    "import pandas as pd\n",
    "import numpy as np\n",
    "import matplotlib.pyplot as plt\n",
    "import seaborn as sns"
   ]
  },
  {
   "cell_type": "code",
   "execution_count": 2,
   "metadata": {},
   "outputs": [
    {
     "name": "stderr",
     "output_type": "stream",
     "text": [
      "[nltk_data] Downloading package vader_lexicon to\n",
      "[nltk_data]     C:\\Users\\MSI\\AppData\\Roaming\\nltk_data...\n",
      "[nltk_data]   Package vader_lexicon is already up-to-date!\n"
     ]
    }
   ],
   "source": [
    "import nltk\n",
    "from nltk.sentiment.vader import SentimentIntensityAnalyzer\n",
    "\n",
    "nltk.download('vader_lexicon')\n",
    "sid = SentimentIntensityAnalyzer()"
   ]
  },
  {
   "cell_type": "markdown",
   "metadata": {},
   "source": [
    "VADER's SentimentIntensityAnalyzer() tokes in a string and returns a dictionary of scores in each of four categories:\n",
    "\n",
    "* Negative\n",
    "* Neutral\n",
    "* Positive\n",
    "Compound (computed by normalizing the scores above)"
   ]
  },
  {
   "cell_type": "code",
   "execution_count": 3,
   "metadata": {},
   "outputs": [
    {
     "name": "stdout",
     "output_type": "stream",
     "text": [
      "{'neg': 0.0, 'neu': 0.508, 'pos': 0.492, 'compound': 0.4404}\n",
      "{'neg': 0.0, 'neu': 0.425, 'pos': 0.575, 'compound': 0.8877}\n",
      "{'neg': 0.477, 'neu': 0.523, 'pos': 0.0, 'compound': -0.8074}\n"
     ]
    }
   ],
   "source": [
    "a = 'This was a good movie'\n",
    "b = 'The was the best, most awesome movie EVER MADE!!!'\n",
    "c = 'This was the worst film to ever disgrace the screen.'\n",
    "\n",
    "print(sid.polarity_scores(a))\n",
    "print(sid.polarity_scores(b))\n",
    "print(sid.polarity_scores(c))"
   ]
  },
  {
   "cell_type": "markdown",
   "metadata": {},
   "source": [
    "# Use VADER to analyze Amazon Reviews"
   ]
  },
  {
   "cell_type": "code",
   "execution_count": 4,
   "metadata": {},
   "outputs": [
    {
     "data": {
      "text/html": [
       "<div>\n",
       "<style scoped>\n",
       "    .dataframe tbody tr th:only-of-type {\n",
       "        vertical-align: middle;\n",
       "    }\n",
       "\n",
       "    .dataframe tbody tr th {\n",
       "        vertical-align: top;\n",
       "    }\n",
       "\n",
       "    .dataframe thead th {\n",
       "        text-align: right;\n",
       "    }\n",
       "</style>\n",
       "<table border=\"1\" class=\"dataframe\">\n",
       "  <thead>\n",
       "    <tr style=\"text-align: right;\">\n",
       "      <th></th>\n",
       "      <th>review</th>\n",
       "      <th>sentiment</th>\n",
       "    </tr>\n",
       "  </thead>\n",
       "  <tbody>\n",
       "    <tr>\n",
       "      <th>0</th>\n",
       "      <td>One of the other reviewers has mentioned that ...</td>\n",
       "      <td>positive</td>\n",
       "    </tr>\n",
       "    <tr>\n",
       "      <th>1</th>\n",
       "      <td>A wonderful little production. &lt;br /&gt;&lt;br /&gt;The...</td>\n",
       "      <td>positive</td>\n",
       "    </tr>\n",
       "    <tr>\n",
       "      <th>2</th>\n",
       "      <td>I thought this was a wonderful way to spend ti...</td>\n",
       "      <td>positive</td>\n",
       "    </tr>\n",
       "    <tr>\n",
       "      <th>3</th>\n",
       "      <td>Basically there's a family where a little boy ...</td>\n",
       "      <td>negative</td>\n",
       "    </tr>\n",
       "    <tr>\n",
       "      <th>4</th>\n",
       "      <td>Petter Mattei's \"Love in the Time of Money\" is...</td>\n",
       "      <td>positive</td>\n",
       "    </tr>\n",
       "  </tbody>\n",
       "</table>\n",
       "</div>"
      ],
      "text/plain": [
       "                                              review sentiment\n",
       "0  One of the other reviewers has mentioned that ...  positive\n",
       "1  A wonderful little production. <br /><br />The...  positive\n",
       "2  I thought this was a wonderful way to spend ti...  positive\n",
       "3  Basically there's a family where a little boy ...  negative\n",
       "4  Petter Mattei's \"Love in the Time of Money\" is...  positive"
      ]
     },
     "execution_count": 4,
     "metadata": {},
     "output_type": "execute_result"
    }
   ],
   "source": [
    "data = pd.read_csv('IMDB Dataset.csv')\n",
    "data.head()"
   ]
  },
  {
   "cell_type": "code",
   "execution_count": 5,
   "metadata": {},
   "outputs": [
    {
     "data": {
      "text/plain": [
       "<AxesSubplot:xlabel='sentiment', ylabel='count'>"
      ]
     },
     "execution_count": 5,
     "metadata": {},
     "output_type": "execute_result"
    },
    {
     "data": {
      "image/png": "[encoded data removed]",
      "text/plain": [
       "<Figure size 432x288 with 1 Axes>"
      ]
     },
     "metadata": {
      "needs_background": "light"
     },
     "output_type": "display_data"
    }
   ],
   "source": [
    "sns.countplot(x='sentiment', data=data)"
   ]
  },
  {
   "cell_type": "code",
   "execution_count": 6,
   "metadata": {},
   "outputs": [],
   "source": [
    "data['scores'] = data['review'].apply(lambda review: sid.polarity_scores(review))"
   ]
  },
  {
   "cell_type": "code",
   "execution_count": 7,
   "metadata": {},
   "outputs": [
    {
     "data": {
      "text/html": [
       "<div>\n",
       "<style scoped>\n",
       "    .dataframe tbody tr th:only-of-type {\n",
       "        vertical-align: middle;\n",
       "    }\n",
       "\n",
       "    .dataframe tbody tr th {\n",
       "        vertical-align: top;\n",
       "    }\n",
       "\n",
       "    .dataframe thead th {\n",
       "        text-align: right;\n",
       "    }\n",
       "</style>\n",
       "<table border=\"1\" class=\"dataframe\">\n",
       "  <thead>\n",
       "    <tr style=\"text-align: right;\">\n",
       "      <th></th>\n",
       "      <th>review</th>\n",
       "      <th>sentiment</th>\n",
       "      <th>scores</th>\n",
       "    </tr>\n",
       "  </thead>\n",
       "  <tbody>\n",
       "    <tr>\n",
       "      <th>0</th>\n",
       "      <td>One of the other reviewers has mentioned that ...</td>\n",
       "      <td>positive</td>\n",
       "      <td>{'neg': 0.203, 'neu': 0.748, 'pos': 0.048, 'co...</td>\n",
       "    </tr>\n",
       "    <tr>\n",
       "      <th>1</th>\n",
       "      <td>A wonderful little production. &lt;br /&gt;&lt;br /&gt;The...</td>\n",
       "      <td>positive</td>\n",
       "      <td>{'neg': 0.053, 'neu': 0.776, 'pos': 0.172, 'co...</td>\n",
       "    </tr>\n",
       "    <tr>\n",
       "      <th>2</th>\n",
       "      <td>I thought this was a wonderful way to spend ti...</td>\n",
       "      <td>positive</td>\n",
       "      <td>{'neg': 0.094, 'neu': 0.714, 'pos': 0.192, 'co...</td>\n",
       "    </tr>\n",
       "    <tr>\n",
       "      <th>3</th>\n",
       "      <td>Basically there's a family where a little boy ...</td>\n",
       "      <td>negative</td>\n",
       "      <td>{'neg': 0.138, 'neu': 0.797, 'pos': 0.065, 'co...</td>\n",
       "    </tr>\n",
       "    <tr>\n",
       "      <th>4</th>\n",
       "      <td>Petter Mattei's \"Love in the Time of Money\" is...</td>\n",
       "      <td>positive</td>\n",
       "      <td>{'neg': 0.052, 'neu': 0.801, 'pos': 0.147, 'co...</td>\n",
       "    </tr>\n",
       "  </tbody>\n",
       "</table>\n",
       "</div>"
      ],
      "text/plain": [
       "                                              review sentiment  \\\n",
       "0  One of the other reviewers has mentioned that ...  positive   \n",
       "1  A wonderful little production. <br /><br />The...  positive   \n",
       "2  I thought this was a wonderful way to spend ti...  positive   \n",
       "3  Basically there's a family where a little boy ...  negative   \n",
       "4  Petter Mattei's \"Love in the Time of Money\" is...  positive   \n",
       "\n",
       "                                              scores  \n",
       "0  {'neg': 0.203, 'neu': 0.748, 'pos': 0.048, 'co...  \n",
       "1  {'neg': 0.053, 'neu': 0.776, 'pos': 0.172, 'co...  \n",
       "2  {'neg': 0.094, 'neu': 0.714, 'pos': 0.192, 'co...  \n",
       "3  {'neg': 0.138, 'neu': 0.797, 'pos': 0.065, 'co...  \n",
       "4  {'neg': 0.052, 'neu': 0.801, 'pos': 0.147, 'co...  "
      ]
     },
     "execution_count": 7,
     "metadata": {},
     "output_type": "execute_result"
    }
   ],
   "source": [
    "data.head()"
   ]
  },
  {
   "cell_type": "code",
   "execution_count": 8,
   "metadata": {},
   "outputs": [],
   "source": [
    "data['compound'] = data['scores'].apply(lambda score_dict: score_dict['compound'])\n",
    "data['comp_score'] = data['compound'].apply(lambda c: 'positive' if c >= 0 else 'negative')"
   ]
  },
  {
   "cell_type": "code",
   "execution_count": 9,
   "metadata": {},
   "outputs": [
    {
     "data": {
      "text/html": [
       "<div>\n",
       "<style scoped>\n",
       "    .dataframe tbody tr th:only-of-type {\n",
       "        vertical-align: middle;\n",
       "    }\n",
       "\n",
       "    .dataframe tbody tr th {\n",
       "        vertical-align: top;\n",
       "    }\n",
       "\n",
       "    .dataframe thead th {\n",
       "        text-align: right;\n",
       "    }\n",
       "</style>\n",
       "<table border=\"1\" class=\"dataframe\">\n",
       "  <thead>\n",
       "    <tr style=\"text-align: right;\">\n",
       "      <th></th>\n",
       "      <th>review</th>\n",
       "      <th>sentiment</th>\n",
       "      <th>scores</th>\n",
       "      <th>compound</th>\n",
       "      <th>comp_score</th>\n",
       "    </tr>\n",
       "  </thead>\n",
       "  <tbody>\n",
       "    <tr>\n",
       "      <th>0</th>\n",
       "      <td>One of the other reviewers has mentioned that ...</td>\n",
       "      <td>positive</td>\n",
       "      <td>{'neg': 0.203, 'neu': 0.748, 'pos': 0.048, 'co...</td>\n",
       "      <td>-0.9951</td>\n",
       "      <td>negative</td>\n",
       "    </tr>\n",
       "    <tr>\n",
       "      <th>1</th>\n",
       "      <td>A wonderful little production. &lt;br /&gt;&lt;br /&gt;The...</td>\n",
       "      <td>positive</td>\n",
       "      <td>{'neg': 0.053, 'neu': 0.776, 'pos': 0.172, 'co...</td>\n",
       "      <td>0.9641</td>\n",
       "      <td>positive</td>\n",
       "    </tr>\n",
       "    <tr>\n",
       "      <th>2</th>\n",
       "      <td>I thought this was a wonderful way to spend ti...</td>\n",
       "      <td>positive</td>\n",
       "      <td>{'neg': 0.094, 'neu': 0.714, 'pos': 0.192, 'co...</td>\n",
       "      <td>0.9605</td>\n",
       "      <td>positive</td>\n",
       "    </tr>\n",
       "    <tr>\n",
       "      <th>3</th>\n",
       "      <td>Basically there's a family where a little boy ...</td>\n",
       "      <td>negative</td>\n",
       "      <td>{'neg': 0.138, 'neu': 0.797, 'pos': 0.065, 'co...</td>\n",
       "      <td>-0.9213</td>\n",
       "      <td>negative</td>\n",
       "    </tr>\n",
       "    <tr>\n",
       "      <th>4</th>\n",
       "      <td>Petter Mattei's \"Love in the Time of Money\" is...</td>\n",
       "      <td>positive</td>\n",
       "      <td>{'neg': 0.052, 'neu': 0.801, 'pos': 0.147, 'co...</td>\n",
       "      <td>0.9744</td>\n",
       "      <td>positive</td>\n",
       "    </tr>\n",
       "  </tbody>\n",
       "</table>\n",
       "</div>"
      ],
      "text/plain": [
       "                                              review sentiment  \\\n",
       "0  One of the other reviewers has mentioned that ...  positive   \n",
       "1  A wonderful little production. <br /><br />The...  positive   \n",
       "2  I thought this was a wonderful way to spend ti...  positive   \n",
       "3  Basically there's a family where a little boy ...  negative   \n",
       "4  Petter Mattei's \"Love in the Time of Money\" is...  positive   \n",
       "\n",
       "                                              scores  compound comp_score  \n",
       "0  {'neg': 0.203, 'neu': 0.748, 'pos': 0.048, 'co...   -0.9951   negative  \n",
       "1  {'neg': 0.053, 'neu': 0.776, 'pos': 0.172, 'co...    0.9641   positive  \n",
       "2  {'neg': 0.094, 'neu': 0.714, 'pos': 0.192, 'co...    0.9605   positive  \n",
       "3  {'neg': 0.138, 'neu': 0.797, 'pos': 0.065, 'co...   -0.9213   negative  \n",
       "4  {'neg': 0.052, 'neu': 0.801, 'pos': 0.147, 'co...    0.9744   positive  "
      ]
     },
     "execution_count": 9,
     "metadata": {},
     "output_type": "execute_result"
    }
   ],
   "source": [
    "data.head()"
   ]
  },
  {
   "cell_type": "code",
   "execution_count": 10,
   "metadata": {},
   "outputs": [
    {
     "data": {
      "text/plain": [
       "0.69548"
      ]
     },
     "execution_count": 10,
     "metadata": {},
     "output_type": "execute_result"
    }
   ],
   "source": [
    "from sklearn.metrics import accuracy_score, classification_report, confusion_matrix\n",
    "\n",
    "accuracy_score(data['sentiment'], data['comp_score'])"
   ]
  },
  {
   "cell_type": "code",
   "execution_count": 11,
   "metadata": {},
   "outputs": [
    {
     "data": {
      "text/plain": [
       "array([[13362, 11638],\n",
       "       [ 3588, 21412]], dtype=int64)"
      ]
     },
     "execution_count": 11,
     "metadata": {},
     "output_type": "execute_result"
    }
   ],
   "source": [
    "confusion_matrix(data['sentiment'], data['comp_score'])"
   ]
  },
  {
   "cell_type": "code",
   "execution_count": 12,
   "metadata": {},
   "outputs": [
    {
     "data": {
      "text/html": [
       "<div>\n",
       "<style scoped>\n",
       "    .dataframe tbody tr th:only-of-type {\n",
       "        vertical-align: middle;\n",
       "    }\n",
       "\n",
       "    .dataframe tbody tr th {\n",
       "        vertical-align: top;\n",
       "    }\n",
       "\n",
       "    .dataframe thead th {\n",
       "        text-align: right;\n",
       "    }\n",
       "</style>\n",
       "<table border=\"1\" class=\"dataframe\">\n",
       "  <thead>\n",
       "    <tr style=\"text-align: right;\">\n",
       "      <th></th>\n",
       "      <th>negative</th>\n",
       "      <th>positive</th>\n",
       "      <th>accuracy</th>\n",
       "      <th>macro avg</th>\n",
       "      <th>weighted avg</th>\n",
       "    </tr>\n",
       "  </thead>\n",
       "  <tbody>\n",
       "    <tr>\n",
       "      <th>precision</th>\n",
       "      <td>0.788319</td>\n",
       "      <td>0.647867</td>\n",
       "      <td>0.69548</td>\n",
       "      <td>0.718093</td>\n",
       "      <td>0.718093</td>\n",
       "    </tr>\n",
       "    <tr>\n",
       "      <th>recall</th>\n",
       "      <td>0.534480</td>\n",
       "      <td>0.856480</td>\n",
       "      <td>0.69548</td>\n",
       "      <td>0.695480</td>\n",
       "      <td>0.695480</td>\n",
       "    </tr>\n",
       "    <tr>\n",
       "      <th>f1-score</th>\n",
       "      <td>0.637044</td>\n",
       "      <td>0.737709</td>\n",
       "      <td>0.69548</td>\n",
       "      <td>0.687376</td>\n",
       "      <td>0.687376</td>\n",
       "    </tr>\n",
       "    <tr>\n",
       "      <th>support</th>\n",
       "      <td>25000.000000</td>\n",
       "      <td>25000.000000</td>\n",
       "      <td>0.69548</td>\n",
       "      <td>50000.000000</td>\n",
       "      <td>50000.000000</td>\n",
       "    </tr>\n",
       "  </tbody>\n",
       "</table>\n",
       "</div>"
      ],
      "text/plain": [
       "               negative      positive  accuracy     macro avg  weighted avg\n",
       "precision      0.788319      0.647867   0.69548      0.718093      0.718093\n",
       "recall         0.534480      0.856480   0.69548      0.695480      0.695480\n",
       "f1-score       0.637044      0.737709   0.69548      0.687376      0.687376\n",
       "support    25000.000000  25000.000000   0.69548  50000.000000  50000.000000"
      ]
     },
     "execution_count": 12,
     "metadata": {},
     "output_type": "execute_result"
    }
   ],
   "source": [
    "pd.DataFrame(classification_report(data['sentiment'], data['comp_score'], output_dict=True))"
   ]
  },
  {
   "cell_type": "code",
   "execution_count": 13,
   "metadata": {},
   "outputs": [],
   "source": [
    "data = pd.read_csv('train_logistic_regression.csv')"
   ]
  },
  {
   "cell_type": "code",
   "execution_count": 14,
   "metadata": {},
   "outputs": [
    {
     "name": "stdout",
     "output_type": "stream",
     "text": [
      "0       1\n",
      "1       1\n",
      "2       1\n",
      "3       1\n",
      "4       1\n",
      "       ..\n",
      "7608    1\n",
      "7609    1\n",
      "7610    1\n",
      "7611    1\n",
      "7612    1\n",
      "Name: target, Length: 7613, dtype: int64\n"
     ]
    }
   ],
   "source": [
    "print(data.target)"
   ]
  },
  {
   "cell_type": "markdown",
   "metadata": {},
   "source": [
    "# Classic Machine Learning Models"
   ]
  },
  {
   "cell_type": "code",
   "execution_count": 15,
   "metadata": {},
   "outputs": [],
   "source": [
    "import spacy\n",
    "import pandas as pd\n",
    "import numpy as np\n",
    "\n",
    "from sklearn.model_selection import train_test_split\n",
    "from sklearn.feature_extraction.text import TfidfVectorizer\n",
    "\n",
    "from sklearn.linear_model import LogisticRegression\n",
    "from sklearn.svm import LinearSVC\n",
    "from sklearn.naive_bayes import MultinomialNB\n",
    "\n",
    "from sklearn.metrics import accuracy_score, classification_report\n",
    "\n",
    "def train_model(model_name, model, X_train, X_test, y_train, y_test):\n",
    "    print(f'BEGIN. {model_name.upper()}......')\n",
    "    model.fit(X_train, y_train)\n",
    "    y_pred = model.predict(X_test)\n",
    "    y_train_pred = model.predict(X_train)\n",
    "    print(f'TESTING DATA----> {model_name.upper()}: \\t\\t{accuracy_score(y_test, y_pred) * 100:.2f}%')\n",
    "    print(f'TRAINING DATA---> {model_name.upper()}: \\t\\t{accuracy_score(y_train, y_train_pred) * 100:.2f}%')\n",
    "    print(classification_report(y_test, y_pred))\n",
    "    print(f'END. {model_name.upper()}')\n",
    "    print('======================================================')\n",
    "    return y_pred\n",
    "\n",
    "data = pd.read_csv('train_logistic_regression.csv')"
   ]
  },
  {
   "cell_type": "code",
   "execution_count": 16,
   "metadata": {},
   "outputs": [
    {
     "name": "stdout",
     "output_type": "stream",
     "text": [
      "=============Splitting the data=============\n",
      "Data shape: (7613, 5)\n",
      "X_Train shape: (5329,), y_train shape: (5329,)\n",
      "X_Test shape: (2284,), y_test shape: (2284,)\n",
      "\n",
      "============Message Preprocessing============\n",
      "Training and testing data shape after pre-processing:\n",
      "X_Train shape: (5329, 8557), y_train shape: (5329,)\n",
      "X_Test shape: (2284, 8557), y_test shape: (2284,)\n",
      "\n",
      "=============Model Building==================\n",
      "BEGIN. LOGISTIC REGRESSION......\n",
      "TESTING DATA----> LOGISTIC REGRESSION: \t\t80.12%\n",
      "TRAINING DATA---> LOGISTIC REGRESSION: \t\t88.40%\n",
      "              precision    recall  f1-score   support\n",
      "\n",
      "           0       0.80      0.88      0.84      1318\n",
      "           1       0.81      0.69      0.75       966\n",
      "\n",
      "    accuracy                           0.80      2284\n",
      "   macro avg       0.80      0.79      0.79      2284\n",
      "weighted avg       0.80      0.80      0.80      2284\n",
      "\n",
      "END. LOGISTIC REGRESSION\n",
      "======================================================\n",
      "BEGIN. SUPPORT VECTOR MACHINE......\n",
      "TESTING DATA----> SUPPORT VECTOR MACHINE: \t\t77.76%\n",
      "TRAINING DATA---> SUPPORT VECTOR MACHINE: \t\t95.91%\n",
      "              precision    recall  f1-score   support\n",
      "\n",
      "           0       0.80      0.82      0.81      1318\n",
      "           1       0.75      0.72      0.73       966\n",
      "\n",
      "    accuracy                           0.78      2284\n",
      "   macro avg       0.77      0.77      0.77      2284\n",
      "weighted avg       0.78      0.78      0.78      2284\n",
      "\n",
      "END. SUPPORT VECTOR MACHINE\n",
      "======================================================\n",
      "BEGIN. NAIVE BAYES......\n",
      "TESTING DATA----> NAIVE BAYES: \t\t80.47%\n",
      "TRAINING DATA---> NAIVE BAYES: \t\t87.15%\n",
      "              precision    recall  f1-score   support\n",
      "\n",
      "           0       0.78      0.91      0.84      1318\n",
      "           1       0.85      0.66      0.74       966\n",
      "\n",
      "    accuracy                           0.80      2284\n",
      "   macro avg       0.82      0.79      0.79      2284\n",
      "weighted avg       0.81      0.80      0.80      2284\n",
      "\n",
      "END. NAIVE BAYES\n",
      "======================================================\n"
     ]
    }
   ],
   "source": [
    "print('=============Splitting the data=============')\n",
    "X = data.text\n",
    "y = data.target\n",
    "print(f'Data shape: {data.shape}')\n",
    "\n",
    "X_train, X_test, y_train, y_test = train_test_split(X, y, test_size=0.3, random_state=42)\n",
    "print(f'X_Train shape: {X_train.shape}, y_train shape: {y_train.shape}')\n",
    "print(f'X_Test shape: {X_test.shape}, y_test shape: {y_test.shape}')\n",
    "\n",
    "print('\\n============Message Preprocessing============')\n",
    "vectorizer = TfidfVectorizer(ngram_range=(1, 2), max_df=0.9, min_df=2, stop_words='english')\n",
    "X_train_vect = vectorizer.fit_transform(X_train.astype('U'))\n",
    "X_test_vect = vectorizer.transform(X_test)\n",
    "\n",
    "print('Training and testing data shape after pre-processing:')\n",
    "print(f'X_Train shape: {X_train_vect.shape}, y_train shape: {y_train.shape}')\n",
    "print(f'X_Test shape: {X_test_vect.shape}, y_test shape: {y_test.shape}')\n",
    "\n",
    "print('\\n=============Model Building==================')\n",
    "lr_model = LogisticRegression()\n",
    "lr_y_pred = train_model('Logistic Regression', lr_model, X_train_vect, X_test_vect, y_train, y_test)\n",
    "\n",
    "svm_model = LinearSVC()\n",
    "svm_y_pred = train_model('Support Vector Machine', svm_model, X_train_vect, X_test_vect, y_train, y_test)\n",
    "\n",
    "nb_model = MultinomialNB()\n",
    "nb_y_pred = train_model('Naive Bayes', nb_model, X_train_vect, X_test_vect, y_train, y_test)\n"
   ]
  },
  {
   "cell_type": "markdown",
   "metadata": {},
   "source": [
    "# Recurrent Neural Networks"
   ]
  },
  {
   "cell_type": "code",
   "execution_count": 19,
   "metadata": {},
   "outputs": [
    {
     "name": "stdout",
     "output_type": "stream",
     "text": [
      "=============Splitting the data=============\n",
      "Data shape: (7613, 5)\n",
      "X_Train shape: (5329,), y_train shape: (5329,)\n",
      "X_Test shape: (2284,), y_test shape: (2284,)\n",
      "\n",
      "============Message Preprocessing============\n",
      "Training and testing data shape after pre-processing:\n",
      "X_Train shape: (5329, 8557), y_train shape: (5329,)\n",
      "X_Test shape: (2284, 8557), y_test shape: (2284,)\n",
      "\n",
      "=============Model Building==================\n",
      "BEGIN. LOGISTIC REGRESSION......\n",
      "TESTING DATA----> LOGISTIC REGRESSION: \t\t80.12%\n",
      "TRAINING DATA---> LOGISTIC REGRESSION: \t\t88.40%\n",
      "              precision    recall  f1-score   support\n",
      "\n",
      "           0       0.80      0.88      0.84      1318\n",
      "           1       0.81      0.69      0.75       966\n",
      "\n",
      "    accuracy                           0.80      2284\n",
      "   macro avg       0.80      0.79      0.79      2284\n",
      "weighted avg       0.80      0.80      0.80      2284\n",
      "\n",
      "END. LOGISTIC REGRESSION\n",
      "======================================================\n",
      "BEGIN. SUPPORT VECTOR MACHINE......\n",
      "TESTING DATA----> SUPPORT VECTOR MACHINE: \t\t77.76%\n",
      "TRAINING DATA---> SUPPORT VECTOR MACHINE: \t\t95.91%\n",
      "              precision    recall  f1-score   support\n",
      "\n",
      "           0       0.80      0.82      0.81      1318\n",
      "           1       0.75      0.72      0.73       966\n",
      "\n",
      "    accuracy                           0.78      2284\n",
      "   macro avg       0.77      0.77      0.77      2284\n",
      "weighted avg       0.78      0.78      0.78      2284\n",
      "\n",
      "END. SUPPORT VECTOR MACHINE\n",
      "======================================================\n",
      "BEGIN. NAIVE BAYES......\n",
      "TESTING DATA----> NAIVE BAYES: \t\t80.47%\n",
      "TRAINING DATA---> NAIVE BAYES: \t\t87.15%\n",
      "              precision    recall  f1-score   support\n",
      "\n",
      "           0       0.78      0.91      0.84      1318\n",
      "           1       0.85      0.66      0.74       966\n",
      "\n",
      "    accuracy                           0.80      2284\n",
      "   macro avg       0.82      0.79      0.79      2284\n",
      "weighted avg       0.81      0.80      0.80      2284\n",
      "\n",
      "END. NAIVE BAYES\n",
      "======================================================\n"
     ]
    }
   ],
   "source": [
    "import pandas as pd\n",
    "import numpy as np\n",
    "\n",
    "from sklearn.model_selection import train_test_split\n",
    "from sklearn.feature_extraction.text import TfidfVectorizer\n",
    "\n",
    "from sklearn.linear_model import LogisticRegression\n",
    "from sklearn.svm import LinearSVC\n",
    "from sklearn.naive_bayes import MultinomialNB\n",
    "\n",
    "from sklearn.metrics import accuracy_score, classification_report\n",
    "\n",
    "def train_model(model_name, model, X_train, X_test, y_train, y_test):\n",
    "    print(f'BEGIN. {model_name.upper()}......')\n",
    "    model.fit(X_train, y_train)\n",
    "    y_pred = model.predict(X_test)\n",
    "    y_train_pred = model.predict(X_train)\n",
    "    print(f'TESTING DATA----> {model_name.upper()}: \\t\\t{accuracy_score(y_test, y_pred) * 100:.2f}%')\n",
    "    print(f'TRAINING DATA---> {model_name.upper()}: \\t\\t{accuracy_score(y_train, y_train_pred) * 100:.2f}%')\n",
    "    print(classification_report(y_test, y_pred))\n",
    "    print(f'END. {model_name.upper()}')\n",
    "    print('======================================================')\n",
    "    return y_pred\n",
    "\n",
    "data = pd.read_csv('train_logistic_regression.csv')\n",
    "\n",
    "print('=============Splitting the data=============')\n",
    "X = data.text\n",
    "y = data.target\n",
    "print(f'Data shape: {data.shape}')\n",
    "\n",
    "X_train, X_test, y_train, y_test = train_test_split(X, y, test_size=0.3, random_state=42)\n",
    "print(f'X_Train shape: {X_train.shape}, y_train shape: {y_train.shape}')\n",
    "print(f'X_Test shape: {X_test.shape}, y_test shape: {y_test.shape}')\n",
    "\n",
    "print('\\n============Message Preprocessing============')\n",
    "vectorizer = TfidfVectorizer(ngram_range=(1, 2), max_df=0.9, min_df=2, stop_words='english')\n",
    "X_train_vect = vectorizer.fit_transform(X_train)\n",
    "X_test_vect = vectorizer.transform(X_test)\n",
    "\n",
    "print('Training and testing data shape after pre-processing:')\n",
    "print(f'X_Train shape: {X_train_vect.shape}, y_train shape: {y_train.shape}')\n",
    "print(f'X_Test shape: {X_test_vect.shape}, y_test shape: {y_test.shape}')\n",
    "\n",
    "print('\\n=============Model Building==================')\n",
    "lr_model = LogisticRegression()\n",
    "lr_y_pred = train_model('Logistic Regression', lr_model, X_train_vect, X_test_vect, y_train, y_test)\n",
    "\n",
    "svm_model = LinearSVC()\n",
    "svm_y_pred = train_model('Support Vector Machine', svm_model, X_train_vect, X_test_vect, y_train, y_test)\n",
    "\n",
    "nb_model = MultinomialNB()\n",
    "nb_y_pred = train_model('Naive Bayes', nb_model, X_train_vect, X_test_vect, y_train, y_test)"
   ]
  },
  {
   "cell_type": "markdown",
   "metadata": {},
   "source": [
    "# Recurrent Neural Networks"
   ]
  },
  {
   "cell_type": "code",
   "execution_count": 20,
   "metadata": {},
   "outputs": [
    {
     "name": "stdout",
     "output_type": "stream",
     "text": [
      "=============Splitting the data=============\n",
      "Data shape: (7613, 5)\n",
      "X_Train shape: (5329,), y_train shape: (5329,)\n",
      "X_Test shape: (2284,), y_test shape: (2284,)\n",
      "==============Convert Sentences to Sequences================\n",
      "Found 17762 unique tokens.\n",
      "Training Data shape: (5329, 33)\n",
      "Testing Data shape: (2284, 33)\n",
      "===============Create The Model==========================\n",
      "Training model...........\n",
      "Epoch 1/50\n",
      "334/334 [==============================] - 8s 20ms/step - loss: 0.6908 - accuracy: 0.5623 - val_loss: 0.6889 - val_accuracy: 0.5771\n",
      "Epoch 2/50\n",
      "334/334 [==============================] - 6s 19ms/step - loss: 0.6893 - accuracy: 0.5658 - val_loss: 0.6866 - val_accuracy: 0.5771\n",
      "Epoch 3/50\n",
      "334/334 [==============================] - 6s 18ms/step - loss: 0.6877 - accuracy: 0.5619 - val_loss: 0.6837 - val_accuracy: 0.5771\n",
      "Epoch 4/50\n",
      "334/334 [==============================] - 6s 18ms/step - loss: 0.6853 - accuracy: 0.5593 - val_loss: 0.6808 - val_accuracy: 0.5771\n",
      "Epoch 5/50\n",
      "334/334 [==============================] - 6s 17ms/step - loss: 0.6808 - accuracy: 0.5764 - val_loss: 0.6783 - val_accuracy: 0.5771\n",
      "Epoch 6/50\n",
      "334/334 [==============================] - 6s 18ms/step - loss: 0.6807 - accuracy: 0.5642 - val_loss: 0.6763 - val_accuracy: 0.5771\n",
      "Epoch 7/50\n",
      "334/334 [==============================] - 6s 17ms/step - loss: 0.6800 - accuracy: 0.5605 - val_loss: 0.6747 - val_accuracy: 0.5771\n",
      "Epoch 8/50\n",
      "334/334 [==============================] - 6s 17ms/step - loss: 0.6762 - accuracy: 0.5691 - val_loss: 0.6734 - val_accuracy: 0.5771\n",
      "Epoch 9/50\n",
      "334/334 [==============================] - 6s 18ms/step - loss: 0.6784 - accuracy: 0.5541 - val_loss: 0.6722 - val_accuracy: 0.5771\n",
      "Epoch 10/50\n",
      "334/334 [==============================] - 6s 18ms/step - loss: 0.6760 - accuracy: 0.5607 - val_loss: 0.6711 - val_accuracy: 0.5771\n",
      "Epoch 11/50\n",
      "334/334 [==============================] - 6s 18ms/step - loss: 0.6679 - accuracy: 0.5751 - val_loss: 0.6695 - val_accuracy: 0.5771\n",
      "Epoch 12/50\n",
      "334/334 [==============================] - 6s 18ms/step - loss: 0.6721 - accuracy: 0.5597 - val_loss: 0.6675 - val_accuracy: 0.5771\n",
      "Epoch 13/50\n",
      "334/334 [==============================] - 6s 18ms/step - loss: 0.6688 - accuracy: 0.5590 - val_loss: 0.6645 - val_accuracy: 0.5771\n",
      "Epoch 14/50\n",
      "334/334 [==============================] - 6s 18ms/step - loss: 0.6626 - accuracy: 0.5638 - val_loss: 0.6592 - val_accuracy: 0.5779\n",
      "Epoch 15/50\n",
      "334/334 [==============================] - 6s 18ms/step - loss: 0.6525 - accuracy: 0.5842 - val_loss: 0.6368 - val_accuracy: 0.6116\n",
      "Epoch 16/50\n",
      "334/334 [==============================] - 6s 17ms/step - loss: 0.6156 - accuracy: 0.6983 - val_loss: 0.5895 - val_accuracy: 0.7123\n",
      "Epoch 17/50\n",
      "334/334 [==============================] - 6s 18ms/step - loss: 0.5501 - accuracy: 0.7624 - val_loss: 0.5687 - val_accuracy: 0.7176\n",
      "Epoch 18/50\n",
      "334/334 [==============================] - 6s 18ms/step - loss: 0.5256 - accuracy: 0.7715 - val_loss: 0.5588 - val_accuracy: 0.7250\n",
      "Epoch 19/50\n",
      "334/334 [==============================] - 6s 17ms/step - loss: 0.5074 - accuracy: 0.7817 - val_loss: 0.5431 - val_accuracy: 0.7356\n",
      "Epoch 20/50\n",
      "334/334 [==============================] - 6s 18ms/step - loss: 0.5054 - accuracy: 0.7874 - val_loss: 0.5361 - val_accuracy: 0.7430\n",
      "Epoch 21/50\n",
      "334/334 [==============================] - 6s 17ms/step - loss: 0.4827 - accuracy: 0.8035 - val_loss: 0.5299 - val_accuracy: 0.7461\n",
      "Epoch 22/50\n",
      "334/334 [==============================] - 6s 18ms/step - loss: 0.4742 - accuracy: 0.7990 - val_loss: 0.5140 - val_accuracy: 0.7644\n",
      "Epoch 23/50\n",
      "334/334 [==============================] - 6s 18ms/step - loss: 0.4591 - accuracy: 0.8126 - val_loss: 0.5222 - val_accuracy: 0.7522\n",
      "Epoch 24/50\n",
      "334/334 [==============================] - 6s 17ms/step - loss: 0.4378 - accuracy: 0.8169 - val_loss: 0.5177 - val_accuracy: 0.7465\n",
      "Epoch 25/50\n",
      "334/334 [==============================] - 6s 18ms/step - loss: 0.4365 - accuracy: 0.8253 - val_loss: 0.5047 - val_accuracy: 0.7653\n",
      "Epoch 26/50\n",
      "334/334 [==============================] - 6s 17ms/step - loss: 0.4253 - accuracy: 0.8255 - val_loss: 0.4933 - val_accuracy: 0.7719\n",
      "Epoch 27/50\n",
      "334/334 [==============================] - 6s 17ms/step - loss: 0.4169 - accuracy: 0.8363 - val_loss: 0.4932 - val_accuracy: 0.7715\n",
      "Epoch 28/50\n",
      "334/334 [==============================] - 6s 18ms/step - loss: 0.3983 - accuracy: 0.8412 - val_loss: 0.4968 - val_accuracy: 0.7715\n",
      "Epoch 29/50\n",
      "334/334 [==============================] - 6s 17ms/step - loss: 0.3818 - accuracy: 0.8488 - val_loss: 0.4850 - val_accuracy: 0.7750\n",
      "Epoch 30/50\n",
      "334/334 [==============================] - 6s 17ms/step - loss: 0.3846 - accuracy: 0.8561 - val_loss: 0.4866 - val_accuracy: 0.7758\n",
      "Epoch 31/50\n",
      "334/334 [==============================] - 6s 17ms/step - loss: 0.3737 - accuracy: 0.8490 - val_loss: 0.4830 - val_accuracy: 0.7771\n",
      "Epoch 32/50\n",
      "334/334 [==============================] - 6s 17ms/step - loss: 0.3639 - accuracy: 0.8547 - val_loss: 0.4894 - val_accuracy: 0.7820\n",
      "Epoch 33/50\n",
      "334/334 [==============================] - 6s 18ms/step - loss: 0.3603 - accuracy: 0.8561 - val_loss: 0.4970 - val_accuracy: 0.7785\n",
      "Epoch 34/50\n",
      "334/334 [==============================] - 6s 17ms/step - loss: 0.3508 - accuracy: 0.8579 - val_loss: 0.4874 - val_accuracy: 0.7824\n",
      "Epoch 35/50\n",
      "334/334 [==============================] - 6s 17ms/step - loss: 0.3475 - accuracy: 0.8567 - val_loss: 0.4967 - val_accuracy: 0.7824\n",
      "Epoch 36/50\n",
      "334/334 [==============================] - 6s 18ms/step - loss: 0.3348 - accuracy: 0.8676 - val_loss: 0.4957 - val_accuracy: 0.7855\n",
      "Epoch 37/50\n",
      "334/334 [==============================] - 6s 18ms/step - loss: 0.3178 - accuracy: 0.8678 - val_loss: 0.4853 - val_accuracy: 0.7986\n",
      "Epoch 38/50\n",
      "334/334 [==============================] - 6s 18ms/step - loss: 0.3050 - accuracy: 0.8805 - val_loss: 0.4895 - val_accuracy: 0.7925\n",
      "Epoch 39/50\n",
      "334/334 [==============================] - 6s 18ms/step - loss: 0.2999 - accuracy: 0.8789 - val_loss: 0.4951 - val_accuracy: 0.7964\n",
      "Epoch 40/50\n",
      "334/334 [==============================] - 6s 19ms/step - loss: 0.2939 - accuracy: 0.8812 - val_loss: 0.4948 - val_accuracy: 0.7938\n",
      "Epoch 41/50\n",
      "334/334 [==============================] - 6s 18ms/step - loss: 0.2942 - accuracy: 0.8789 - val_loss: 0.4997 - val_accuracy: 0.7977\n",
      "Epoch 42/50\n",
      "334/334 [==============================] - 6s 17ms/step - loss: 0.2799 - accuracy: 0.8903 - val_loss: 0.5151 - val_accuracy: 0.7872\n",
      "Epoch 43/50\n",
      "334/334 [==============================] - 6s 17ms/step - loss: 0.2788 - accuracy: 0.8836 - val_loss: 0.5049 - val_accuracy: 0.7951\n",
      "Epoch 44/50\n",
      "334/334 [==============================] - 6s 18ms/step - loss: 0.2584 - accuracy: 0.8923 - val_loss: 0.5016 - val_accuracy: 0.7968\n",
      "Epoch 45/50\n",
      "334/334 [==============================] - 6s 17ms/step - loss: 0.2675 - accuracy: 0.8960 - val_loss: 0.4984 - val_accuracy: 0.8025\n",
      "Epoch 46/50\n",
      "334/334 [==============================] - 6s 18ms/step - loss: 0.2478 - accuracy: 0.9041 - val_loss: 0.5229 - val_accuracy: 0.7894\n",
      "Epoch 47/50\n",
      "334/334 [==============================] - 6s 18ms/step - loss: 0.2639 - accuracy: 0.8934 - val_loss: 0.5295 - val_accuracy: 0.7903\n",
      "Epoch 48/50\n",
      "334/334 [==============================] - 6s 17ms/step - loss: 0.2458 - accuracy: 0.9009 - val_loss: 0.5071 - val_accuracy: 0.8056\n",
      "Epoch 49/50\n",
      "334/334 [==============================] - 6s 18ms/step - loss: 0.2259 - accuracy: 0.9073 - val_loss: 0.5218 - val_accuracy: 0.7964\n",
      "Epoch 50/50\n",
      "334/334 [==============================] - 6s 18ms/step - loss: 0.2378 - accuracy: 0.8979 - val_loss: 0.5249 - val_accuracy: 0.7960\n",
      "================Model Evaluation=====================\n",
      "=============Training Data===============\n",
      "[[2992   32]\n",
      " [ 464 1841]]\n",
      "              precision    recall  f1-score   support\n",
      "\n",
      "           0       0.87      0.99      0.92      3024\n",
      "           1       0.98      0.80      0.88      2305\n",
      "\n",
      "    accuracy                           0.91      5329\n",
      "   macro avg       0.92      0.89      0.90      5329\n",
      "weighted avg       0.92      0.91      0.91      5329\n",
      "\n",
      "Accuracy score: 90.69%\n",
      "=============Testing Data===============\n",
      "[[1239   79]\n",
      " [ 387  579]]\n",
      "              precision    recall  f1-score   support\n",
      "\n",
      "           0       0.76      0.94      0.84      1318\n",
      "           1       0.88      0.60      0.71       966\n",
      "\n",
      "    accuracy                           0.80      2284\n",
      "   macro avg       0.82      0.77      0.78      2284\n",
      "weighted avg       0.81      0.80      0.79      2284\n",
      "\n",
      "Accuracy score: 79.60%\n"
     ]
    },
    {
     "data": {
      "image/png": "[encoded data removed]",
      "text/plain": [
       "<Figure size 864x576 with 2 Axes>"
      ]
     },
     "metadata": {
      "needs_background": "light"
     },
     "output_type": "display_data"
    }
   ],
   "source": [
    "import pandas as pd\n",
    "import numpy as np\n",
    "import matplotlib.pyplot as plt\n",
    "from sklearn.model_selection import train_test_split\n",
    "\n",
    "from tensorflow.keras.preprocessing.text import Tokenizer\n",
    "from tensorflow.keras.preprocessing.sequence import pad_sequences\n",
    "from tensorflow.keras.layers import Dense, Input, GlobalAveragePooling1D, Dropout, SpatialDropout1D\n",
    "from tensorflow.keras.layers import LSTM, Embedding\n",
    "from tensorflow.keras.models import Model\n",
    "from tensorflow.keras.optimizers import Adam\n",
    "\n",
    "from sklearn.metrics import confusion_matrix, classification_report, accuracy_score\n",
    "\n",
    "\n",
    "def plot_loss_evaluation(r):\n",
    "    plt.figure(figsize=(12, 8))\n",
    "\n",
    "    plt.subplot(2, 2, 1)\n",
    "    plt.plot(r.history['loss'], label='loss')\n",
    "    plt.plot(r.history['val_loss'], label='val_loss')\n",
    "    plt.legend()\n",
    "\n",
    "    plt.subplot(2, 2, 2)\n",
    "    plt.plot(r.history['accuracy'], label='accuracy')\n",
    "    plt.plot(r.history['val_accuracy'], label='val_acc')\n",
    "    plt.legend()\n",
    "    \n",
    "    plt.title('Training and Loss fuction evolution')\n",
    "    \n",
    "def evaluate(model, X_train, X_test, y_train, y_test):\n",
    "    y_pred_train = np.round(model.predict(X_train))\n",
    "    y_pred_test = np.round(model.predict(X_test))\n",
    "    \n",
    "    print(\"=============Training Data===============\")\n",
    "    print(confusion_matrix(y_train, y_pred_train))\n",
    "    print(classification_report(y_train, y_pred_train))\n",
    "    print(f\"Accuracy score: {accuracy_score(y_train, y_pred_train) * 100:.2f}%\")\n",
    "    \n",
    "    print(\"=============Testing Data===============\")\n",
    "    print(confusion_matrix(y_test, y_pred_test))\n",
    "    print(classification_report(y_test, y_pred_test))\n",
    "    print(f\"Accuracy score: {accuracy_score(y_test, y_pred_test) * 100:.2f}%\")\n",
    "    \n",
    "data = pd.read_csv(\"train_logistic_regression.csv\")\n",
    "\n",
    "print('=============Splitting the data=============')\n",
    "X = data.text\n",
    "y = data.target\n",
    "print(f'Data shape: {data.shape}')\n",
    "\n",
    "X_train, X_test, y_train, y_test = train_test_split(X, y, test_size=0.3, random_state=42)\n",
    "print(f'X_Train shape: {X_train.shape}, y_train shape: {y_train.shape}')\n",
    "print(f'X_Test shape: {X_test.shape}, y_test shape: {y_test.shape}')\n",
    "\n",
    "print('==============Convert Sentences to Sequences================')\n",
    "MAX_VOCAB_SIZE = 20000\n",
    "tokenizer = Tokenizer(num_words=MAX_VOCAB_SIZE, char_level=False)\n",
    "tokenizer.fit_on_texts(X_train)\n",
    "sequences_train = tokenizer.texts_to_sequences(X_train)\n",
    "sequences_test = tokenizer.texts_to_sequences(X_test)\n",
    "\n",
    "# pad sequence do that we get a NxT matrix\n",
    "data_train = pad_sequences(sequences_train)\n",
    "data_test = pad_sequences(sequences_test, maxlen=data_train.shape[1])\n",
    "print(f\"Found {len(tokenizer.word_index)} unique tokens.\")\n",
    "print(f\"Training Data shape: {data_train.shape}\")\n",
    "print(f\"Testing Data shape: {data_test.shape}\")\n",
    "\n",
    "print('===============Create The Model==========================')\n",
    "# We get to choose embedding dimensionality\n",
    "D = 100\n",
    "# Hidden state dimentionality\n",
    "M = 64\n",
    "V = len(tokenizer.word_index)\n",
    "T = data_train.shape[1]\n",
    "\n",
    "# model.add(embedding)\n",
    "# model.add(SpatialDropout1D(0.2))\n",
    "# model.add(LSTM(64, dropout=0.2, recurrent_dropout=0.2))\n",
    "# model.add(Dense(1, activation='sigmoid'))\n",
    "\n",
    "i = Input(shape=(T,))\n",
    "x = Embedding(V + 1, D)(i)\n",
    "x = SpatialDropout1D(0.2)(x)\n",
    "x = LSTM(M, return_sequences=True, activation='relu')(x)\n",
    "x = GlobalAveragePooling1D()(x)\n",
    "# x = Dropout(0.2)(x)\n",
    "x = Dense(1, activation='sigmoid')(x)\n",
    "\n",
    "model = Model(i, x)\n",
    "optimizer = Adam(learning_rate=1e-5)\n",
    "# Compile and fit\n",
    "model.compile(optimizer=optimizer, loss='binary_crossentropy', metrics=['accuracy'])\n",
    "print('Training model...........')\n",
    "r = model.fit(data_train, y_train, epochs=50, \n",
    "              validation_data=(data_test, y_test), \n",
    "              batch_size=16)\n",
    "\n",
    "print('================Model Evaluation=====================')\n",
    "evaluate(model, data_train, data_test, y_train, y_test)\n",
    "plot_loss_evaluation(r)\n"
   ]
  },
  {
   "cell_type": "code",
   "execution_count": 21,
   "metadata": {},
   "outputs": [
    {
     "data": {
      "text/plain": [
       "0        69\n",
       "1        38\n",
       "2       133\n",
       "3        65\n",
       "4        88\n",
       "       ... \n",
       "7608     83\n",
       "7609    125\n",
       "7610     65\n",
       "7611    137\n",
       "7612     94\n",
       "Name: text, Length: 7613, dtype: int64"
      ]
     },
     "execution_count": 21,
     "metadata": {},
     "output_type": "execute_result"
    }
   ],
   "source": [
    "data.text.str.len()"
   ]
  },
  {
   "cell_type": "markdown",
   "metadata": {},
   "source": [
    "# Convolutional Neural Networks"
   ]
  },
  {
   "cell_type": "code",
   "execution_count": 22,
   "metadata": {},
   "outputs": [
    {
     "name": "stdout",
     "output_type": "stream",
     "text": [
      "=============Splitting the data=============\n",
      "Data shape: (7613, 5)\n",
      "X_Train shape: (5329,), y_train shape: (5329,)\n",
      "X_Test shape: (2284,), y_test shape: (2284,)\n",
      "==============Convert Sentences to Sequences================\n",
      "Found 17762 unique tokens.\n",
      "Training Data shape: (5329, 33)\n",
      "Testing Data shape: (2284, 33)\n",
      "===============Create The Model==========================\n",
      "Training model...........\n",
      "Epoch 1/5\n",
      "5329/5329 [==============================] - 80s 15ms/step - loss: 0.6293 - accuracy: 0.6585 - val_loss: 0.4879 - val_accuracy: 0.7903\n",
      "Epoch 2/5\n",
      "5329/5329 [==============================] - 79s 15ms/step - loss: 0.3595 - accuracy: 0.8641 - val_loss: 0.4875 - val_accuracy: 0.7955\n",
      "Epoch 3/5\n",
      "5329/5329 [==============================] - 79s 15ms/step - loss: 0.2263 - accuracy: 0.9212 - val_loss: 0.7037 - val_accuracy: 0.7320\n",
      "Epoch 4/5\n",
      "5329/5329 [==============================] - 79s 15ms/step - loss: 0.1552 - accuracy: 0.9479 - val_loss: 0.5396 - val_accuracy: 0.7754\n",
      "Epoch 5/5\n",
      "5329/5329 [==============================] - 81s 15ms/step - loss: 0.1260 - accuracy: 0.9605 - val_loss: 0.8983 - val_accuracy: 0.7513\n",
      "================Model Evaluation=====================\n",
      "=============Training Data===============\n",
      "[[2985   39]\n",
      " [  54 2251]]\n",
      "              precision    recall  f1-score   support\n",
      "\n",
      "           0       0.98      0.99      0.98      3024\n",
      "           1       0.98      0.98      0.98      2305\n",
      "\n",
      "    accuracy                           0.98      5329\n",
      "   macro avg       0.98      0.98      0.98      5329\n",
      "weighted avg       0.98      0.98      0.98      5329\n",
      "\n",
      "Accuracy score: 98.25%\n",
      "=============Testing Data===============\n",
      "[[1010  308]\n",
      " [ 260  706]]\n",
      "              precision    recall  f1-score   support\n",
      "\n",
      "           0       0.80      0.77      0.78      1318\n",
      "           1       0.70      0.73      0.71       966\n",
      "\n",
      "    accuracy                           0.75      2284\n",
      "   macro avg       0.75      0.75      0.75      2284\n",
      "weighted avg       0.75      0.75      0.75      2284\n",
      "\n",
      "Accuracy score: 75.13%\n"
     ]
    },
    {
     "data": {
      "image/png": "[encoded data removed]",
      "text/plain": [
       "<Figure size 864x576 with 2 Axes>"
      ]
     },
     "metadata": {
      "needs_background": "light"
     },
     "output_type": "display_data"
    }
   ],
   "source": [
    "import pandas as pd\n",
    "import numpy as np\n",
    "import matplotlib.pyplot as plt\n",
    "from sklearn.model_selection import train_test_split\n",
    "\n",
    "from tensorflow.keras.preprocessing.text import Tokenizer\n",
    "from tensorflow.keras.preprocessing.sequence import pad_sequences\n",
    "from tensorflow.keras.layers import Dense, Input, GlobalMaxPooling1D, MaxPooling1D\n",
    "from tensorflow.keras.layers import Conv1D, Embedding, Dropout\n",
    "from tensorflow.keras.models import Model\n",
    "\n",
    "from sklearn.metrics import confusion_matrix, classification_report, accuracy_score\n",
    "\n",
    "\n",
    "def plot_loss_evaluation(r):\n",
    "    plt.figure(figsize=(12, 8))\n",
    "\n",
    "    plt.subplot(2, 2, 1)\n",
    "    plt.plot(r.history['loss'], label='loss')\n",
    "    plt.plot(r.history['val_loss'], label='val_loss')\n",
    "    plt.legend()\n",
    "\n",
    "    plt.subplot(2, 2, 2)\n",
    "    plt.plot(r.history['accuracy'], label='accuracy')\n",
    "    plt.plot(r.history['val_accuracy'], label='val_acc')\n",
    "    plt.legend()\n",
    "    \n",
    "    plt.title('Training and Loss fuction evolution')\n",
    "    \n",
    "def evaluate(model, X_train, X_test, y_train, y_test):\n",
    "    y_pred_train = np.round(model.predict(X_train))\n",
    "    y_pred_test = np.round(model.predict(X_test))\n",
    "    \n",
    "    print(\"=============Training Data===============\")\n",
    "    print(confusion_matrix(y_train, y_pred_train))\n",
    "    print(classification_report(y_train, y_pred_train))\n",
    "    print(f\"Accuracy score: {accuracy_score(y_train, y_pred_train) * 100:.2f}%\")\n",
    "    \n",
    "    print(\"=============Testing Data===============\")\n",
    "    print(confusion_matrix(y_test, y_pred_test))\n",
    "    print(classification_report(y_test, y_pred_test))\n",
    "    print(f\"Accuracy score: {accuracy_score(y_test, y_pred_test) * 100:.2f}%\")\n",
    "    \n",
    "data = pd.read_csv(\"train_logistic_regression.csv\")\n",
    "\n",
    "print('=============Splitting the data=============')\n",
    "X = data.text\n",
    "y = data.target\n",
    "print(f'Data shape: {data.shape}')\n",
    "\n",
    "X_train, X_test, y_train, y_test = train_test_split(X, y, test_size=0.3, random_state=42)\n",
    "print(f'X_Train shape: {X_train.shape}, y_train shape: {y_train.shape}')\n",
    "print(f'X_Test shape: {X_test.shape}, y_test shape: {y_test.shape}')\n",
    "\n",
    "print('==============Convert Sentences to Sequences================')\n",
    "MAX_VOCAB_SIZE = 20000\n",
    "tokenizer = Tokenizer(num_words=MAX_VOCAB_SIZE)\n",
    "tokenizer.fit_on_texts(X_train)\n",
    "sequences_train = tokenizer.texts_to_sequences(X_train)\n",
    "sequences_test = tokenizer.texts_to_sequences(X_test)\n",
    "\n",
    "# pad sequence do that we get a NxT matrix\n",
    "data_train = pad_sequences(sequences_train)\n",
    "data_test = pad_sequences(sequences_test, maxlen=data_train.shape[1])\n",
    "print(f\"Found {len(tokenizer.word_index)} unique tokens.\")\n",
    "print(f\"Training Data shape: {data_train.shape}\")\n",
    "print(f\"Testing Data shape: {data_test.shape}\")\n",
    "\n",
    "print('===============Create The Model==========================')\n",
    "# We get to choose embedding dimensionality\n",
    "D = 100\n",
    "\n",
    "V = len(tokenizer.word_index)\n",
    "T = data_train.shape[1]\n",
    "\n",
    "i = Input(shape=(T,))\n",
    "x = Embedding(V + 1, D)(i)\n",
    "\n",
    "x = Conv1D(32, 2, activation='relu')(x)\n",
    "x = MaxPooling1D()(x)\n",
    "x = Dropout(0.1)(x)\n",
    "\n",
    "x = Conv1D(64, 2, activation='relu')(x)\n",
    "x = MaxPooling1D()(x)\n",
    "x = Dropout(0.2)(x)\n",
    "\n",
    "x = Conv1D(128, 2, activation='relu')(x)\n",
    "x = MaxPooling1D()(x)\n",
    "x = Dropout(0.3)(x)\n",
    "\n",
    "x = Conv1D(264, 2, activation='relu')(x)\n",
    "x = GlobalMaxPooling1D()(x)\n",
    "\n",
    "x = Dropout(0.5)(x)\n",
    "\n",
    "x = Dense(1, activation='sigmoid')(x)\n",
    "\n",
    "model = Model(i, x)\n",
    "\n",
    "# Compile and fit\n",
    "model.compile(optimizer='adam', loss='binary_crossentropy', metrics=['accuracy'])\n",
    "print('Training model...........')\n",
    "r = model.fit(data_train, y_train, epochs=5, \n",
    "              validation_data=(data_test, y_test), \n",
    "              batch_size=1)\n",
    "\n",
    "print('================Model Evaluation=====================')\n",
    "evaluate(model, data_train, data_test, y_train, y_test)\n",
    "plot_loss_evaluation(r)"
   ]
  },
  {
   "cell_type": "markdown",
   "metadata": {},
   "source": [
    "# NLTK Sentiment VADER"
   ]
  },
  {
   "cell_type": "code",
   "execution_count": 23,
   "metadata": {},
   "outputs": [],
   "source": [
    "from nltk.sentiment.vader import SentimentIntensityAnalyzer\n",
    "sid = SentimentIntensityAnalyzer()\n",
    "data['scores'] = data['text'].apply(lambda text: sid.polarity_scores(text))\n",
    "data['compound'] = data['scores'].apply(lambda score_dict: score_dict['compound'])\n",
    "data['comp_score'] = data['compound'].apply(lambda c: 0 if c >= 0 else 1)"
   ]
  },
  {
   "cell_type": "code",
   "execution_count": 24,
   "metadata": {},
   "outputs": [
    {
     "data": {
      "text/plain": [
       "0.5724418757388677"
      ]
     },
     "execution_count": 24,
     "metadata": {},
     "output_type": "execute_result"
    }
   ],
   "source": [
    "accuracy_score(data['target'], data['comp_score'])"
   ]
  },
  {
   "cell_type": "markdown",
   "metadata": {},
   "source": [
    "#  Making submission"
   ]
  },
  {
   "cell_type": "code",
   "execution_count": 25,
   "metadata": {},
   "outputs": [
    {
     "ename": "FileNotFoundError",
     "evalue": "[Errno 2] No such file or directory: 'test.csv'",
     "output_type": "error",
     "traceback": [
      "\u001b[1;31m---------------------------------------------------------------------------\u001b[0m",
      "\u001b[1;31mFileNotFoundError\u001b[0m                         Traceback (most recent call last)",
      "\u001b[1;32m<ipython-input-25-20ff335a7bce>\u001b[0m in \u001b[0;36m<module>\u001b[1;34m\u001b[0m\n\u001b[0;32m      1\u001b[0m \u001b[1;31m# /kaggle/input/nlp-getting-started/test.csv\u001b[0m\u001b[1;33m\u001b[0m\u001b[1;33m\u001b[0m\u001b[1;33m\u001b[0m\u001b[0m\n\u001b[0;32m      2\u001b[0m \u001b[1;31m# /kaggle/input/nlp-getting-started/sample_submission.csv\u001b[0m\u001b[1;33m\u001b[0m\u001b[1;33m\u001b[0m\u001b[1;33m\u001b[0m\u001b[0m\n\u001b[1;32m----> 3\u001b[1;33m \u001b[0mtest\u001b[0m \u001b[1;33m=\u001b[0m \u001b[0mpd\u001b[0m\u001b[1;33m.\u001b[0m\u001b[0mread_csv\u001b[0m\u001b[1;33m(\u001b[0m\u001b[1;34m'test.csv'\u001b[0m\u001b[1;33m)\u001b[0m\u001b[1;33m\u001b[0m\u001b[1;33m\u001b[0m\u001b[0m\n\u001b[0m\u001b[0;32m      4\u001b[0m \u001b[1;33m\u001b[0m\u001b[0m\n\u001b[0;32m      5\u001b[0m \u001b[0mprint\u001b[0m\u001b[1;33m(\u001b[0m\u001b[1;34m'==============Convert Sentences to Sequences================'\u001b[0m\u001b[1;33m)\u001b[0m\u001b[1;33m\u001b[0m\u001b[1;33m\u001b[0m\u001b[0m\n",
      "\u001b[1;32m~\\anaconda3\\lib\\site-packages\\pandas\\io\\parsers.py\u001b[0m in \u001b[0;36mread_csv\u001b[1;34m(filepath_or_buffer, sep, delimiter, header, names, index_col, usecols, squeeze, prefix, mangle_dupe_cols, dtype, engine, converters, true_values, false_values, skipinitialspace, skiprows, skipfooter, nrows, na_values, keep_default_na, na_filter, verbose, skip_blank_lines, parse_dates, infer_datetime_format, keep_date_col, date_parser, dayfirst, cache_dates, iterator, chunksize, compression, thousands, decimal, lineterminator, quotechar, quoting, doublequote, escapechar, comment, encoding, dialect, error_bad_lines, warn_bad_lines, delim_whitespace, low_memory, memory_map, float_precision, storage_options)\u001b[0m\n\u001b[0;32m    608\u001b[0m     \u001b[0mkwds\u001b[0m\u001b[1;33m.\u001b[0m\u001b[0mupdate\u001b[0m\u001b[1;33m(\u001b[0m\u001b[0mkwds_defaults\u001b[0m\u001b[1;33m)\u001b[0m\u001b[1;33m\u001b[0m\u001b[1;33m\u001b[0m\u001b[0m\n\u001b[0;32m    609\u001b[0m \u001b[1;33m\u001b[0m\u001b[0m\n\u001b[1;32m--> 610\u001b[1;33m     \u001b[1;32mreturn\u001b[0m \u001b[0m_read\u001b[0m\u001b[1;33m(\u001b[0m\u001b[0mfilepath_or_buffer\u001b[0m\u001b[1;33m,\u001b[0m \u001b[0mkwds\u001b[0m\u001b[1;33m)\u001b[0m\u001b[1;33m\u001b[0m\u001b[1;33m\u001b[0m\u001b[0m\n\u001b[0m\u001b[0;32m    611\u001b[0m \u001b[1;33m\u001b[0m\u001b[0m\n\u001b[0;32m    612\u001b[0m \u001b[1;33m\u001b[0m\u001b[0m\n",
      "\u001b[1;32m~\\anaconda3\\lib\\site-packages\\pandas\\io\\parsers.py\u001b[0m in \u001b[0;36m_read\u001b[1;34m(filepath_or_buffer, kwds)\u001b[0m\n\u001b[0;32m    460\u001b[0m \u001b[1;33m\u001b[0m\u001b[0m\n\u001b[0;32m    461\u001b[0m     \u001b[1;31m# Create the parser.\u001b[0m\u001b[1;33m\u001b[0m\u001b[1;33m\u001b[0m\u001b[1;33m\u001b[0m\u001b[0m\n\u001b[1;32m--> 462\u001b[1;33m     \u001b[0mparser\u001b[0m \u001b[1;33m=\u001b[0m \u001b[0mTextFileReader\u001b[0m\u001b[1;33m(\u001b[0m\u001b[0mfilepath_or_buffer\u001b[0m\u001b[1;33m,\u001b[0m \u001b[1;33m**\u001b[0m\u001b[0mkwds\u001b[0m\u001b[1;33m)\u001b[0m\u001b[1;33m\u001b[0m\u001b[1;33m\u001b[0m\u001b[0m\n\u001b[0m\u001b[0;32m    463\u001b[0m \u001b[1;33m\u001b[0m\u001b[0m\n\u001b[0;32m    464\u001b[0m     \u001b[1;32mif\u001b[0m \u001b[0mchunksize\u001b[0m \u001b[1;32mor\u001b[0m \u001b[0miterator\u001b[0m\u001b[1;33m:\u001b[0m\u001b[1;33m\u001b[0m\u001b[1;33m\u001b[0m\u001b[0m\n",
      "\u001b[1;32m~\\anaconda3\\lib\\site-packages\\pandas\\io\\parsers.py\u001b[0m in \u001b[0;36m__init__\u001b[1;34m(self, f, engine, **kwds)\u001b[0m\n\u001b[0;32m    817\u001b[0m             \u001b[0mself\u001b[0m\u001b[1;33m.\u001b[0m\u001b[0moptions\u001b[0m\u001b[1;33m[\u001b[0m\u001b[1;34m\"has_index_names\"\u001b[0m\u001b[1;33m]\u001b[0m \u001b[1;33m=\u001b[0m \u001b[0mkwds\u001b[0m\u001b[1;33m[\u001b[0m\u001b[1;34m\"has_index_names\"\u001b[0m\u001b[1;33m]\u001b[0m\u001b[1;33m\u001b[0m\u001b[1;33m\u001b[0m\u001b[0m\n\u001b[0;32m    818\u001b[0m \u001b[1;33m\u001b[0m\u001b[0m\n\u001b[1;32m--> 819\u001b[1;33m         \u001b[0mself\u001b[0m\u001b[1;33m.\u001b[0m\u001b[0m_engine\u001b[0m \u001b[1;33m=\u001b[0m \u001b[0mself\u001b[0m\u001b[1;33m.\u001b[0m\u001b[0m_make_engine\u001b[0m\u001b[1;33m(\u001b[0m\u001b[0mself\u001b[0m\u001b[1;33m.\u001b[0m\u001b[0mengine\u001b[0m\u001b[1;33m)\u001b[0m\u001b[1;33m\u001b[0m\u001b[1;33m\u001b[0m\u001b[0m\n\u001b[0m\u001b[0;32m    820\u001b[0m \u001b[1;33m\u001b[0m\u001b[0m\n\u001b[0;32m    821\u001b[0m     \u001b[1;32mdef\u001b[0m \u001b[0mclose\u001b[0m\u001b[1;33m(\u001b[0m\u001b[0mself\u001b[0m\u001b[1;33m)\u001b[0m\u001b[1;33m:\u001b[0m\u001b[1;33m\u001b[0m\u001b[1;33m\u001b[0m\u001b[0m\n",
      "\u001b[1;32m~\\anaconda3\\lib\\site-packages\\pandas\\io\\parsers.py\u001b[0m in \u001b[0;36m_make_engine\u001b[1;34m(self, engine)\u001b[0m\n\u001b[0;32m   1048\u001b[0m             )\n\u001b[0;32m   1049\u001b[0m         \u001b[1;31m# error: Too many arguments for \"ParserBase\"\u001b[0m\u001b[1;33m\u001b[0m\u001b[1;33m\u001b[0m\u001b[1;33m\u001b[0m\u001b[0m\n\u001b[1;32m-> 1050\u001b[1;33m         \u001b[1;32mreturn\u001b[0m \u001b[0mmapping\u001b[0m\u001b[1;33m[\u001b[0m\u001b[0mengine\u001b[0m\u001b[1;33m]\u001b[0m\u001b[1;33m(\u001b[0m\u001b[0mself\u001b[0m\u001b[1;33m.\u001b[0m\u001b[0mf\u001b[0m\u001b[1;33m,\u001b[0m \u001b[1;33m**\u001b[0m\u001b[0mself\u001b[0m\u001b[1;33m.\u001b[0m\u001b[0moptions\u001b[0m\u001b[1;33m)\u001b[0m  \u001b[1;31m# type: ignore[call-arg]\u001b[0m\u001b[1;33m\u001b[0m\u001b[1;33m\u001b[0m\u001b[0m\n\u001b[0m\u001b[0;32m   1051\u001b[0m \u001b[1;33m\u001b[0m\u001b[0m\n\u001b[0;32m   1052\u001b[0m     \u001b[1;32mdef\u001b[0m \u001b[0m_failover_to_python\u001b[0m\u001b[1;33m(\u001b[0m\u001b[0mself\u001b[0m\u001b[1;33m)\u001b[0m\u001b[1;33m:\u001b[0m\u001b[1;33m\u001b[0m\u001b[1;33m\u001b[0m\u001b[0m\n",
      "\u001b[1;32m~\\anaconda3\\lib\\site-packages\\pandas\\io\\parsers.py\u001b[0m in \u001b[0;36m__init__\u001b[1;34m(self, src, **kwds)\u001b[0m\n\u001b[0;32m   1865\u001b[0m \u001b[1;33m\u001b[0m\u001b[0m\n\u001b[0;32m   1866\u001b[0m         \u001b[1;31m# open handles\u001b[0m\u001b[1;33m\u001b[0m\u001b[1;33m\u001b[0m\u001b[1;33m\u001b[0m\u001b[0m\n\u001b[1;32m-> 1867\u001b[1;33m         \u001b[0mself\u001b[0m\u001b[1;33m.\u001b[0m\u001b[0m_open_handles\u001b[0m\u001b[1;33m(\u001b[0m\u001b[0msrc\u001b[0m\u001b[1;33m,\u001b[0m \u001b[0mkwds\u001b[0m\u001b[1;33m)\u001b[0m\u001b[1;33m\u001b[0m\u001b[1;33m\u001b[0m\u001b[0m\n\u001b[0m\u001b[0;32m   1868\u001b[0m         \u001b[1;32massert\u001b[0m \u001b[0mself\u001b[0m\u001b[1;33m.\u001b[0m\u001b[0mhandles\u001b[0m \u001b[1;32mis\u001b[0m \u001b[1;32mnot\u001b[0m \u001b[1;32mNone\u001b[0m\u001b[1;33m\u001b[0m\u001b[1;33m\u001b[0m\u001b[0m\n\u001b[0;32m   1869\u001b[0m         \u001b[1;32mfor\u001b[0m \u001b[0mkey\u001b[0m \u001b[1;32min\u001b[0m \u001b[1;33m(\u001b[0m\u001b[1;34m\"storage_options\"\u001b[0m\u001b[1;33m,\u001b[0m \u001b[1;34m\"encoding\"\u001b[0m\u001b[1;33m,\u001b[0m \u001b[1;34m\"memory_map\"\u001b[0m\u001b[1;33m,\u001b[0m \u001b[1;34m\"compression\"\u001b[0m\u001b[1;33m)\u001b[0m\u001b[1;33m:\u001b[0m\u001b[1;33m\u001b[0m\u001b[1;33m\u001b[0m\u001b[0m\n",
      "\u001b[1;32m~\\anaconda3\\lib\\site-packages\\pandas\\io\\parsers.py\u001b[0m in \u001b[0;36m_open_handles\u001b[1;34m(self, src, kwds)\u001b[0m\n\u001b[0;32m   1360\u001b[0m         \u001b[0mLet\u001b[0m \u001b[0mthe\u001b[0m \u001b[0mreaders\u001b[0m \u001b[0mopen\u001b[0m \u001b[0mIOHanldes\u001b[0m \u001b[0mafter\u001b[0m \u001b[0mthey\u001b[0m \u001b[0mare\u001b[0m \u001b[0mdone\u001b[0m \u001b[1;32mwith\u001b[0m \u001b[0mtheir\u001b[0m \u001b[0mpotential\u001b[0m \u001b[0mraises\u001b[0m\u001b[1;33m.\u001b[0m\u001b[1;33m\u001b[0m\u001b[1;33m\u001b[0m\u001b[0m\n\u001b[0;32m   1361\u001b[0m         \"\"\"\n\u001b[1;32m-> 1362\u001b[1;33m         self.handles = get_handle(\n\u001b[0m\u001b[0;32m   1363\u001b[0m             \u001b[0msrc\u001b[0m\u001b[1;33m,\u001b[0m\u001b[1;33m\u001b[0m\u001b[1;33m\u001b[0m\u001b[0m\n\u001b[0;32m   1364\u001b[0m             \u001b[1;34m\"r\"\u001b[0m\u001b[1;33m,\u001b[0m\u001b[1;33m\u001b[0m\u001b[1;33m\u001b[0m\u001b[0m\n",
      "\u001b[1;32m~\\anaconda3\\lib\\site-packages\\pandas\\io\\common.py\u001b[0m in \u001b[0;36mget_handle\u001b[1;34m(path_or_buf, mode, encoding, compression, memory_map, is_text, errors, storage_options)\u001b[0m\n\u001b[0;32m    640\u001b[0m                 \u001b[0merrors\u001b[0m \u001b[1;33m=\u001b[0m \u001b[1;34m\"replace\"\u001b[0m\u001b[1;33m\u001b[0m\u001b[1;33m\u001b[0m\u001b[0m\n\u001b[0;32m    641\u001b[0m             \u001b[1;31m# Encoding\u001b[0m\u001b[1;33m\u001b[0m\u001b[1;33m\u001b[0m\u001b[1;33m\u001b[0m\u001b[0m\n\u001b[1;32m--> 642\u001b[1;33m             handle = open(\n\u001b[0m\u001b[0;32m    643\u001b[0m                 \u001b[0mhandle\u001b[0m\u001b[1;33m,\u001b[0m\u001b[1;33m\u001b[0m\u001b[1;33m\u001b[0m\u001b[0m\n\u001b[0;32m    644\u001b[0m                 \u001b[0mioargs\u001b[0m\u001b[1;33m.\u001b[0m\u001b[0mmode\u001b[0m\u001b[1;33m,\u001b[0m\u001b[1;33m\u001b[0m\u001b[1;33m\u001b[0m\u001b[0m\n",
      "\u001b[1;31mFileNotFoundError\u001b[0m: [Errno 2] No such file or directory: 'test.csv'"
     ]
    }
   ],
   "source": [
    "# /kaggle/input/nlp-getting-started/test.csv\n",
    "# /kaggle/input/nlp-getting-started/sample_submission.csv\n",
    "test = pd.read_csv('test.csv')\n",
    "\n",
    "print('==============Convert Sentences to Sequences================')\n",
    "sequences_test = tokenizer.texts_to_sequences(test.text)\n",
    "\n",
    "# pad sequence do that we get a NxT matrix\n",
    "data_test = pad_sequences(sequences_test, maxlen=data_train.shape[1])\n",
    "print(f\"Found {len(tokenizer.word_index)} unique tokens.\")\n",
    "print(f\"Testing Data shape: {data_test.shape}\")"
   ]
  },
  {
   "cell_type": "code",
   "execution_count": null,
   "metadata": {},
   "outputs": [],
   "source": [
    "sample_sub=pd.read_csv('sample_submission.csv')\n",
    "y_pre = model.predict(data_test)\n",
    "y_pre = np.round(y_pre).astype(int).reshape(3263)\n",
    "sub = pd.DataFrame({'id':sample_sub['id'].values.tolist(), 'target':y_pre})\n",
    "sub.to_csv('submission.csv', index=False)"
   ]
  },
  {
   "cell_type": "code",
   "execution_count": null,
   "metadata": {},
   "outputs": [],
   "source": [
    "sub.head()"
   ]
  },
  {
   "cell_type": "code",
   "execution_count": null,
   "metadata": {},
   "outputs": [],
   "source": []
  }
 ],
 "metadata": {
  "kernelspec": {
   "display_name": "Python 3",
   "language": "python",
   "name": "python3"
  },
  "language_info": {
   "codemirror_mode": {
    "name": "ipython",
    "version": 3
   },
   "file_extension": ".py",
   "mimetype": "text/x-python",
   "name": "python",
   "nbconvert_exporter": "python",
   "pygments_lexer": "ipython3",
   "version": "3.8.5"
  }
 },
 "nbformat": 4,
 "nbformat_minor": 4
}
