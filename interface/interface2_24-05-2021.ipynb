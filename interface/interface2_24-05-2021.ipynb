{
 "cells": [
  {
   "cell_type": "markdown",
   "metadata": {},
   "source": [
    "# Récupérer les valeurs du bouton sélectionné\n",
    "Pour récupérer les valeurs du bouton sélectionné, il faut ajouter le paramètre variable aux boutons radio, puis récupérer sa valeur."
   ]
  },
  {
   "cell_type": "code",
   "execution_count": 22,
   "metadata": {},
   "outputs": [],
   "source": [
    "from tkinter import *\n",
    "\n",
    "window = Tk()\n",
    "window.title(\"Apprendre tkinter\")\n",
    "window .geometry( '300x100' )\n",
    "\n",
    "selected = IntVar()\n",
    "\n",
    "rad1 = Radiobutton(window,text='Homme', value=1, variable=selected)\n",
    "rad2 = Radiobutton(window,text='Femme', value=2, variable=selected)\n",
    "\n",
    "label = Label(window, textvariable=selected)\n",
    "\n",
    "rad1.grid(column=0, row=0)\n",
    "rad2.grid(column=1, row=0)\n",
    "label.grid(column=0, row=1)\n",
    "\n",
    "window.mainloop()"
   ]
  },
  {
   "cell_type": "markdown",
   "metadata": {},
   "source": [
    "# Ajouter une zone de texte\n",
    "On utilise la classe ScrolledText. De plus, nous allons définir la largeur et la hauteur avec width et height. Il est également possible de définir le contenu de la zone du texte avec la méthode d’insertion."
   ]
  },
  {
   "cell_type": "code",
   "execution_count": 12,
   "metadata": {},
   "outputs": [],
   "source": [
    "from tkinter import *\n",
    "from tkinter import scrolledtext\n",
    "\n",
    "window = Tk()\n",
    "window.title(\"Apprendre tkinter\")\n",
    "window.geometry('350x200')\n",
    "\n",
    "txt = scrolledtext.ScrolledText(window,width=40,height=10)\n",
    "txt.grid(column=0,row=0)\n",
    "\n",
    "window.mainloop()"
   ]
  },
  {
   "cell_type": "markdown",
   "metadata": {},
   "source": [
    "# Créer une boîte de message\n",
    "La boîte de message Tkinter est une fenêtre contextuelle qui apparaît à l’écran pour vous donner des informations ou vous poser une question."
   ]
  },
  {
   "cell_type": "code",
   "execution_count": 13,
   "metadata": {},
   "outputs": [],
   "source": [
    "from tkinter import *\n",
    "from tkinter import messagebox\n",
    "\n",
    "window = Tk()\n",
    "window.title(\"Apprendre tkinter\")\n",
    "window .geometry( '300x100' )\n",
    "\n",
    "messagebox.showinfo('Titre du message', 'Le content du message')\n",
    "\n",
    "window.mainloop()"
   ]
  },
  {
   "cell_type": "markdown",
   "metadata": {},
   "source": [
    "# Le widget SpinBox\n",
    "Le widget Spinbox est utilisé pour sélectionner un nombre parmi plusieurs valeurs."
   ]
  },
  {
   "cell_type": "code",
   "execution_count": 15,
   "metadata": {},
   "outputs": [],
   "source": [
    "from tkinter import *\n",
    "window = Tk()\n",
    "window.title(\"Apprendre tkinter\")\n",
    "window .geometry( '300x100' )\n",
    "\n",
    "#spin = Spinbox(window, from_=0, to=100, width=5)\n",
    "spin = Spinbox(window, values=(3, 8, 11), width=5)#affiche les nombres indiqués seuelemnt\n",
    "spin.grid(column=0,row=0)\n",
    "\n",
    "window.mainloop()"
   ]
  },
  {
   "cell_type": "markdown",
   "metadata": {},
   "source": [
    "# e widget barre de progression\n",
    "Lorsque vous créez une interface graphique avec tkinter, vous aurez peut-être besoin d’implémenter une barre de progression pour certaines tâches."
   ]
  },
  {
   "cell_type": "code",
   "execution_count": 16,
   "metadata": {},
   "outputs": [],
   "source": [
    "from tkinter import *\n",
    "from tkinter.ttk import Progressbar\n",
    "from tkinter import ttk\n",
    "\n",
    "window = Tk()\n",
    "window.title(\"Apprendre tkinter\")\n",
    "window .geometry( '300x100' )\n",
    "\n",
    "style = ttk.Style()\n",
    "style.theme_use('default')\n",
    "style.configure(\"black.Horizontal.TProgressbar\", background='black')\n",
    "\n",
    "bar = Progressbar(window, length=200, style='black.Horizontal.TProgressbar')\n",
    "bar['value'] = 70\n",
    "bar.grid(column=0, row=0)\n",
    "\n",
    "window.mainloop()"
   ]
  },
  {
   "cell_type": "markdown",
   "metadata": {},
   "source": [
    "# La barre de menu\n",
    "La création d’une interface graphique avec Tkinter vous permet de mettre en place une barre de menu pour afficher toutes sortes de menus.\n",
    "\n",
    "Nous créons un menu, puis nous ajoutons un label."
   ]
  },
  {
   "cell_type": "code",
   "execution_count": 18,
   "metadata": {},
   "outputs": [],
   "source": [
    "from tkinter import *\n",
    "from tkinter import Menu\n",
    "\n",
    "window = Tk()\n",
    "window.title(\"Apprendre tkinter\")\n",
    "\n",
    "menu = Menu(window)\n",
    "new_item = Menu(menu)\n",
    "new_item.add_command(label='Nouveau')\n",
    "new_item.add_separator()\n",
    "new_item.add_command(label='Enregistrer')\n",
    "menu.add_cascade(label='Fichier', menu=new_item)\n",
    "window.config(menu=menu)\n",
    "\n",
    "window.mainloop()"
   ]
  },
  {
   "cell_type": "markdown",
   "metadata": {},
   "source": [
    "# Créer des onglets"
   ]
  },
  {
   "cell_type": "code",
   "execution_count": 19,
   "metadata": {},
   "outputs": [],
   "source": [
    "from tkinter import *\n",
    "from tkinter import ttk\n",
    "\n",
    "window = Tk()\n",
    "window.title(\"Apprendre tkinter\")\n",
    "\n",
    "tab_control = ttk.Notebook(window)\n",
    "\n",
    "tab1 = ttk.Frame(tab_control)\n",
    "tab2 = ttk.Frame(tab_control)\n",
    "\n",
    "tab_control.add(tab1, text='Onglet1')\n",
    "tab_control.add(tab2, text='Onglet2')\n",
    "\n",
    "lbl1 = Label(tab1, text= 'label1')\n",
    "lbl1.grid(column=0, row=0)\n",
    "lbl2 = Label(tab2, text= 'label2')\n",
    "lbl2.grid(column=0, row=0)\n",
    "\n",
    "tab_control.pack(expand=1, fill='both')\n",
    "\n",
    "window.mainloop()"
   ]
  },
  {
   "cell_type": "code",
   "execution_count": 21,
   "metadata": {},
   "outputs": [],
   "source": [
    "\n"
   ]
  },
  {
   "cell_type": "code",
   "execution_count": null,
   "metadata": {},
   "outputs": [],
   "source": []
  }
 ],
 "metadata": {
  "kernelspec": {
   "display_name": "Python 3",
   "language": "python",
   "name": "python3"
  },
  "language_info": {
   "codemirror_mode": {
    "name": "ipython",
    "version": 3
   },
   "file_extension": ".py",
   "mimetype": "text/x-python",
   "name": "python",
   "nbconvert_exporter": "python",
   "pygments_lexer": "ipython3",
   "version": "3.8.5"
  }
 },
 "nbformat": 4,
 "nbformat_minor": 4
}
